{
 "cells": [
  {
   "cell_type": "code",
   "execution_count": 1,
   "metadata": {},
   "outputs": [],
   "source": [
    "import os\n",
    "\n",
    "import numpy as np\n",
    "import pandas as pd"
   ]
  },
  {
   "cell_type": "markdown",
   "metadata": {},
   "source": [
    "# Combining data"
   ]
  },
  {
   "cell_type": "code",
   "execution_count": 9,
   "metadata": {},
   "outputs": [],
   "source": [
    "path = 'data'\n",
    "files = os.listdir(path)\n",
    "\n",
    "data = ''\n",
    "\n",
    "for file in files:\n",
    "    if os.path.isfile(os.path.join(path, file)):\n",
    "        file_content = open(os.path.join(path, file), 'r', encoding='utf-8').read()\n",
    "        data += file_content.lower()"
   ]
  },
  {
   "cell_type": "code",
   "execution_count": 11,
   "metadata": {},
   "outputs": [
    {
     "name": "stdout",
     "output_type": "stream",
     "text": [
      "looking for some education\n",
      "made my way into the night\n",
      "all that bullshit conversation\n",
      "baby, can't you read the signs? i won't bore you with the details, baby\n",
      "i don't even wanna waste your time\n",
      "let's just say that maybe\n",
      "you could help me ease my mind\n",
      "i ain't mr. right but if you're looking for fast love\n",
      "if that's love in your eyes\n",
      "it's more than enough\n",
      "had some bad love\n",
      "so fast love is all that i've got on my mind ooh, ooh\n",
      "ooh, ooh looking for some affirmation\n",
      "made my way into the sun\n",
      "my friends got their ladies\n",
      "and they're all having babies\n",
      "i just wanna have some fun i won't bore you with the d\n"
     ]
    }
   ],
   "source": [
    "print(data[:600])"
   ]
  },
  {
   "cell_type": "code",
   "execution_count": null,
   "metadata": {},
   "outputs": [],
   "source": []
  }
 ],
 "metadata": {
  "kernelspec": {
   "display_name": "Python 3",
   "language": "python",
   "name": "python3"
  },
  "language_info": {
   "codemirror_mode": {
    "name": "ipython",
    "version": 3
   },
   "file_extension": ".py",
   "mimetype": "text/x-python",
   "name": "python",
   "nbconvert_exporter": "python",
   "pygments_lexer": "ipython3",
   "version": "3.8.3"
  }
 },
 "nbformat": 4,
 "nbformat_minor": 4
}
